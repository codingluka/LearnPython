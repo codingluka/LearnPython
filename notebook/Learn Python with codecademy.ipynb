{
 "cells": [
  {
   "cell_type": "markdown",
   "metadata": {},
   "source": [
    "## codecademy python https://www.codecademy.com/learn/python\n",
    "### 使用 shift + Enter 執行 Jupyter  內的區塊, 按 a 在上方增加區塊, 按 b 在下方增加區塊"
   ]
  },
  {
   "cell_type": "markdown",
   "metadata": {},
   "source": [
    "### UNIT 1: PYTHON SYNTAX"
   ]
  },
  {
   "cell_type": "markdown",
   "metadata": {},
   "source": [
    "Variables"
   ]
  },
  {
   "cell_type": "code",
   "execution_count": null,
   "metadata": {
    "collapsed": false
   },
   "outputs": [],
   "source": [
    "# 定義變數\n",
    "# 變數名稱 = 值\n",
    "my_variable = 10\n",
    "# 列印 my_variable, python 3 的print 要加上括號\n",
    "print( my_variable )\n",
    "print( \"my_variable is %s\" % my_variable )"
   ]
  },
  {
   "cell_type": "markdown",
   "metadata": {},
   "source": [
    "Booleans"
   ]
  },
  {
   "cell_type": "code",
   "execution_count": null,
   "metadata": {
    "collapsed": false
   },
   "outputs": [],
   "source": [
    "# 練習設定變數\n",
    "# 設定 my_int = 7 類型為 int ( 整數 )\n",
    "my_int = 7\n",
    "print( my_int )\n",
    "# 設定 my_float = 1.23 類型為 float ( 浮點數 )\n",
    "my_float = 1.23\n",
    "print( my_float )\n",
    "# 設定 my_bool = True 類型為 boolean ( 布林 )\n",
    "my_bool = True\n",
    "print( my_bool )"
   ]
  },
  {
   "cell_type": "markdown",
   "metadata": {},
   "source": [
    "You've Been Reassigned"
   ]
  },
  {
   "cell_type": "code",
   "execution_count": null,
   "metadata": {
    "collapsed": false
   },
   "outputs": [],
   "source": [
    "# 重新定義變數的值\n",
    "# 定義 my_int = 7\n",
    "my_int = 7\n",
    "\n",
    "# 將 my_int 重新定義為 3\n",
    "my_int = 3\n",
    "\n",
    "# 觀察結果\n",
    "\n",
    "print( my_int )"
   ]
  },
  {
   "cell_type": "markdown",
   "metadata": {},
   "source": [
    "Whitespace"
   ]
  },
  {
   "cell_type": "code",
   "execution_count": null,
   "metadata": {
    "collapsed": false
   },
   "outputs": [],
   "source": [
    "# 空格( space ) 在python 的作用\n",
    "# 當有些函數或是語法使用的時候, 必需空4個空格來區隔不同的函數\n",
    "\n",
    "def spam():\n",
    "# 這邊就要空4個空格\n",
    "    eggs = 12\n",
    "    return eggs\n",
    "        \n",
    "print( spam() )"
   ]
  },
  {
   "cell_type": "markdown",
   "metadata": {},
   "source": [
    "Single Line Comments"
   ]
  },
  {
   "cell_type": "code",
   "execution_count": null,
   "metadata": {
    "collapsed": true
   },
   "outputs": [],
   "source": [
    "# 單行註解\n",
    "# 註解的用法, 使用 # 來進行註解\n",
    "\n",
    "mysterious_variable = 42 # 也可以註解在程式後面\n",
    "# print( mysterious_variable ) 你不會看到 print 內容,因為註解"
   ]
  },
  {
   "cell_type": "markdown",
   "metadata": {},
   "source": [
    "Multi-Line Comments"
   ]
  },
  {
   "cell_type": "code",
   "execution_count": null,
   "metadata": {
    "collapsed": false
   },
   "outputs": [],
   "source": [
    "''' 多行註解 \n",
    "使用連續3個單引號或是雙引號來進行\n",
    "連續的多行註解\n",
    "'''"
   ]
  },
  {
   "cell_type": "markdown",
   "metadata": {},
   "source": [
    "Math"
   ]
  },
  {
   "cell_type": "code",
   "execution_count": null,
   "metadata": {
    "collapsed": false
   },
   "outputs": [],
   "source": [
    "# 數學運算\n",
    "# 利用 python 進行數學運算\n",
    "count_to = 12 + 34\n",
    "\n",
    "# 列印結果\n",
    "print( count_to )"
   ]
  },
  {
   "cell_type": "markdown",
   "metadata": {},
   "source": [
    "Exponentiation"
   ]
  },
  {
   "cell_type": "code",
   "execution_count": null,
   "metadata": {
    "collapsed": false
   },
   "outputs": [],
   "source": [
    "# 指數\n",
    "# 使用指數 ** 將 eggs 定義為 10 的 2次方\n",
    "\n",
    "eggs = 10 ** 2\n",
    "\n",
    "#列印結果\n",
    "print( eggs )"
   ]
  },
  {
   "cell_type": "markdown",
   "metadata": {},
   "source": [
    "Modulo"
   ]
  },
  {
   "cell_type": "code",
   "execution_count": null,
   "metadata": {
    "collapsed": false
   },
   "outputs": [],
   "source": [
    "# 餘數\n",
    "# 使用 % 求出餘數\n",
    "\n",
    "# spam 應該會等於 1, 因為 5除以2 等於2餘1\n",
    "spam = 5 % 2\n",
    "\n",
    "#列印結果\n",
    "print( spam )"
   ]
  },
  {
   "cell_type": "markdown",
   "metadata": {},
   "source": [
    "### UNIT 2: STRINGS AND CONSOLE OUTPUT"
   ]
  },
  {
   "cell_type": "markdown",
   "metadata": {},
   "source": [
    "Strings"
   ]
  },
  {
   "cell_type": "code",
   "execution_count": null,
   "metadata": {
    "collapsed": true
   },
   "outputs": [],
   "source": [
    "# 字串\n",
    "# 使用 雙引號來包含字串\n",
    "brian = \"Hello life!\"\n",
    "\n",
    "# 列印結果\n",
    "print( brian )"
   ]
  },
  {
   "cell_type": "markdown",
   "metadata": {},
   "source": [
    "Access by Index"
   ]
  },
  {
   "cell_type": "code",
   "execution_count": null,
   "metadata": {
    "collapsed": false
   },
   "outputs": [],
   "source": [
    "# 使用 索引的方式來存取字串\n",
    "\"\"\"\n",
    "\"PYTHON\" 這個字串有 6 個字元,\n",
    "從 0 到 5 編號, 如下所示:\n",
    "\n",
    "+---+---+---+---+---+---+\n",
    "| P | Y | T | H | O | N |\n",
    "+---+---+---+---+---+---+\n",
    "  0   1   2   3   4   5\n",
    "\n",
    "如果我們想要選擇 \"Y\", 我們可以使用\n",
    "\"PYTHON\"[1] (從 0 開始算的第 2 個字元)\n",
    "\"\"\"\n",
    "# 從 MONTY 選取第 5 個字元\n",
    "fifth_letter = \"MONTY\"[4]\n",
    "\n",
    "# 列印結果\n",
    "print( fifth_letter )"
   ]
  },
  {
   "cell_type": "markdown",
   "metadata": {},
   "source": [
    "String methods"
   ]
  },
  {
   "cell_type": "code",
   "execution_count": null,
   "metadata": {
    "collapsed": true
   },
   "outputs": [],
   "source": [
    "# 存取字串的方法\n",
    "# 定義 parrot 變數\n",
    "parrot = \"Norwegian Blue\"\n",
    "\n",
    "# 使用 len() 取得字串長度\n",
    "len(parrot)\n",
    "\n",
    "# 列印結果\n",
    "print( len(parrot) )"
   ]
  },
  {
   "cell_type": "markdown",
   "metadata": {},
   "source": [
    "lower()"
   ]
  },
  {
   "cell_type": "code",
   "execution_count": null,
   "metadata": {
    "collapsed": true
   },
   "outputs": [],
   "source": [
    "# lower() 將字串變成小寫\n",
    "parrot = \"Norwegian Blue\"\n",
    "\n",
    "# 這邊要注意 lower() 是放在 parrot 變數後面, 用.連接\n",
    "# 列印結果\n",
    "print( parrot.lower() )"
   ]
  },
  {
   "cell_type": "markdown",
   "metadata": {},
   "source": [
    "upper()"
   ]
  },
  {
   "cell_type": "code",
   "execution_count": null,
   "metadata": {
    "collapsed": true
   },
   "outputs": [],
   "source": [
    "# upper() 將字串變成大寫\n",
    "parrot = \"norwegian blue\"\n",
    "\n",
    "# 這邊要注意 upper() 是放在 parrot 變數後面, 用.連接\n",
    "# 列印結果\n",
    "print( parrot.upper() )"
   ]
  },
  {
   "cell_type": "markdown",
   "metadata": {},
   "source": [
    "str()"
   ]
  },
  {
   "cell_type": "code",
   "execution_count": null,
   "metadata": {
    "collapsed": true
   },
   "outputs": [],
   "source": [
    "# str() 將資料的類型轉為 string\n",
    "\n",
    "# 定義 pi 變數\n",
    "pi = 3.14\n",
    "\n",
    "# 列印 pi 的類型, 使用 type() 列出類型\n",
    "print( type(pi) )\n",
    "\n",
    "# 使用 str() 將 pi 轉為 string\n",
    "print( str(pi) )\n",
    "\n",
    "# 列印 pi 的類型, 使用 type() 列出類型\n",
    "print( type( str(pi) ) )"
   ]
  },
  {
   "cell_type": "markdown",
   "metadata": {},
   "source": [
    "String Concatenation"
   ]
  },
  {
   "cell_type": "code",
   "execution_count": null,
   "metadata": {
    "collapsed": true
   },
   "outputs": [],
   "source": [
    "# 連接字串\n",
    "# 使用 + 連接字串\n",
    "\n",
    "# 列印 Spam and eggs\n",
    "print( \"Spam\" + \" and\" + \" eggs\" )"
   ]
  }
 ],
 "metadata": {
  "kernelspec": {
   "display_name": "Python 3",
   "language": "python",
   "name": "python3"
  },
  "language_info": {
   "codemirror_mode": {
    "name": "ipython",
    "version": 3
   },
   "file_extension": ".py",
   "mimetype": "text/x-python",
   "name": "python",
   "nbconvert_exporter": "python",
   "pygments_lexer": "ipython3",
   "version": "3.4.3"
  }
 },
 "nbformat": 4,
 "nbformat_minor": 0
}
